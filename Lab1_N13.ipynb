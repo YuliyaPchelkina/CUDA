{
 "cells": [
  {
   "cell_type": "code",
   "execution_count": 1,
   "metadata": {},
   "outputs": [],
   "source": [
    "import numpy as np\n",
    "import matplotlib.pyplot as plt\n",
    "import pandas as pd\n"
   ]
  },
  {
   "cell_type": "code",
   "execution_count": 2,
   "metadata": {},
   "outputs": [],
   "source": [
    "# Выриант 13. Задание\n",
    "# Сгенерировать N облаков (классов) с M точками (объектами) в каждом. \n",
    "# Построить классификатор используя scikit-learn который достигнет точности R лежащей в интервале (R1, R2).\n",
    "\n",
    "N=5\n",
    "M=810\n",
    "R_1=0.696\n",
    "R_2=0.701"
   ]
  },
  {
   "cell_type": "code",
   "execution_count": 3,
   "metadata": {},
   "outputs": [
    {
     "data": {
      "text/plain": [
       "array([[-0.2881599 , -1.95432497],\n",
       "       [-1.54688816, -0.54354616],\n",
       "       [ 0.75151757, -0.77183555],\n",
       "       ...,\n",
       "       [-0.58534843, -0.55288478],\n",
       "       [ 0.27296476, -0.72234869],\n",
       "       [ 2.88722308,  0.91504292]])"
      ]
     },
     "execution_count": 3,
     "metadata": {},
     "output_type": "execute_result"
    }
   ],
   "source": [
    "# Генерируем набор точек\n",
    "\n",
    "cloud = np.transpose([np.random.normal(0.0, 1.0, M), np.random.normal(0.0, 1.0, M)])\n",
    "cloud"
   ]
  },
  {
   "cell_type": "code",
   "execution_count": 4,
   "metadata": {},
   "outputs": [
    {
     "data": {
      "text/plain": [
       "<matplotlib.collections.PathCollection at 0x8ff9730>"
      ]
     },
     "execution_count": 4,
     "metadata": {},
     "output_type": "execute_result"
    },
    {
     "data": {
      "image/png": "[encoded data removed]",
      "text/plain": [
       "<Figure size 432x288 with 1 Axes>"
      ]
     },
     "metadata": {
      "needs_background": "light"
     },
     "output_type": "display_data"
    }
   ],
   "source": [
    "plt.scatter(cloud[:,0], cloud[:,1])\n"
   ]
  },
  {
   "cell_type": "code",
   "execution_count": 5,
   "metadata": {},
   "outputs": [
    {
     "name": "stdout",
     "output_type": "stream",
     "text": [
      "0.026292821229664087\n",
      "0.9991861994291387\n",
      "[0.0438242  0.00876144]\n"
     ]
    }
   ],
   "source": [
    "# Параметры\n",
    "print(cloud.mean())\n",
    "print(cloud.std())\n",
    "print(cloud.mean(axis=0))"
   ]
  },
  {
   "cell_type": "code",
   "execution_count": 6,
   "metadata": {},
   "outputs": [],
   "source": [
    "\n",
    "from sklearn.linear_model import LogisticRegression\n",
    "from sklearn.neighbors import KNeighborsClassifier\n",
    "from sklearn.metrics import confusion_matrix\n",
    "from sklearn.metrics import accuracy_score\n",
    "from sklearn.utils import shuffle\n",
    "from sklearn import preprocessing\n"
   ]
  },
  {
   "cell_type": "code",
   "execution_count": 7,
   "metadata": {},
   "outputs": [],
   "source": [
    "# пять облаков\n",
    "accur = 0\n",
    "r=1\n",
    "l=(2*np.pi)/N\n",
    "\n",
    "\n",
    "while (R_1 > accur) or (accur > R_2) :\n",
    "  \n",
    "    cloud1 = cloud + np.array([r*np.cos(0),r*np.sin(0)])\n",
    "    cloud2 = cloud + np.array([r*np.cos(l),r*np.sin(l)])\n",
    "    cloud3 = cloud + np.array([r*np.cos(l*2),r*np.sin(l*2)])\n",
    "    cloud4 = cloud + np.array([r*np.cos(l*3),r*np.sin(l*3)])\n",
    "    cloud5 = cloud + np.array([r*np.cos(l*4),r*np.sin(l*4)])\n",
    "\n",
    "    \n",
    "    clouds = np.vstack([cloud1, cloud2, cloud3, cloud4, cloud5])\n",
    "    \n",
    "    annot1 = np.ones(clouds.shape[0])\n",
    "    annot1[M:]=2\n",
    "    annot1[M*2:]=3\n",
    "    annot1[M*3:]=4\n",
    "    annot1[M*4:]=5\n",
    "    \n",
    "    data, labels = shuffle(clouds, annot1)\n",
    "    \n",
    "    \n",
    "    \n",
    "    test_size = int(len(data)*0.5)\n",
    "    Xtrain = data[:test_size]\n",
    "    Ytrain = labels[:test_size]\n",
    "    \n",
    "    \n",
    "    \n",
    "    Xtest = data[test_size:]\n",
    "    Ytest = labels[test_size:]\n",
    "    \n",
    "    clf=LogisticRegression()\n",
    "    \n",
    "    clf.fit(Xtrain, Ytrain)\n",
    "    predictions = clf.predict(Xtest)\n",
    "        \n",
    "    accur = accuracy_score(Ytest, predictions)\n",
    "    r = r + 0.01\n",
    "\n",
    " \n",
    "    "
   ]
  },
  {
   "cell_type": "code",
   "execution_count": 8,
   "metadata": {},
   "outputs": [
    {
     "data": {
      "text/plain": [
       "(4050, 2)"
      ]
     },
     "execution_count": 8,
     "metadata": {},
     "output_type": "execute_result"
    }
   ],
   "source": [
    "clouds.shape"
   ]
  },
  {
   "cell_type": "markdown",
   "metadata": {},
   "source": [
    "# Отчет"
   ]
  },
  {
   "cell_type": "markdown",
   "metadata": {},
   "source": [
    "## 1. Параметры генерации данных"
   ]
  },
  {
   "cell_type": "code",
   "execution_count": 9,
   "metadata": {},
   "outputs": [
    {
     "name": "stdout",
     "output_type": "stream",
     "text": [
      "параметры генерации данных 1-го облака точек: М(Х) = 0.52, М(Y) = 1.6\n",
      "параметры генерации данных 2-го облака точек: М(Х) = -1.36, М(Y) = 0.99\n",
      "параметры генерации данных 3-го облака точек: М(Х) = -1.36, М(Y) = -0.99\n",
      "параметры генерации данных 4-го облака точек: М(Х) = 0.52, М(Y) = -1.6\n",
      "параметры генерации данных 5-го облака точек: М(Х) = 1.68, М(Y) = -0.0\n"
     ]
    }
   ],
   "source": [
    "print(f\"параметры генерации данных 1-го облака точек: М(Х) = {round(r*np.cos(l), 2)}, М(Y) = {round(r*np.sin(l),2)}\")\n",
    "\n",
    "print(f\"параметры генерации данных 2-го облака точек: М(Х) = {round(r*np.cos(l*2), 2)}, М(Y) = {round(r*np.sin(l*2),2)}\")\n",
    "\n",
    "print(f\"параметры генерации данных 3-го облака точек: М(Х) = {round(r*np.cos(l*3), 2)}, М(Y) = {round(r*np.sin(l*3),2)}\")\n",
    "\n",
    "print(f\"параметры генерации данных 4-го облака точек: М(Х) = {round(r*np.cos(l*4), 2)}, М(Y) = {round(r*np.sin(l*4),2)}\")\n",
    "\n",
    "print(f\"параметры генерации данных 5-го облака точек: М(Х) = {round(r*np.cos(l*5), 2)}, М(Y) = {round(r*np.sin(l*5),2)}\")\n",
    "\n",
    "\n",
    "\n",
    "\n"
   ]
  },
  {
   "cell_type": "code",
   "execution_count": 10,
   "metadata": {},
   "outputs": [],
   "source": [
    "# Среднее и СКО\n",
    "#print(f\"среднее для 1-го облака точек: М(Х) = {round(cloud1[:,0].mean(), 2)}, М(Y) = {round(cloud1[:,1].mean(), 2)}, б(X) = {round(cloud1[:,0].std(), 2)}, б(Y) = {round(cloud1[:,1].std(), 2)}\")\n",
    "#print(f\"среднее для 2-го облака точек: М(Х) = {round(cloud2[:,0].mean(), 2)}, М(Y) = {round(cloud2[:,1].mean(), 2)}, б(X) = {round(cloud2[:,0].std(), 2)}, б(Y) = {round(cloud2[:,1].std(), 2)}\")\n",
    "#print(f\"среднее для 2-го облака точек: М(Х) = {round(cloud3[:,0].mean(), 2)}, М(Y) = {round(cloud3[:,1].mean(), 2)}, б(X) = {round(cloud3[:,0].std(), 2)}, б(Y) = {round(cloud3[:,1].std(), 2)}\")\n",
    "#print(f\"среднее для 2-го облака точек: М(Х) = {round(cloud4[:,0].mean(), 2)}, М(Y) = {round(cloud4[:,1].mean(), 2)}, б(X) = {round(cloud4[:,0].std(), 2)}, б(Y) = {round(cloud4[:,1].std(), 2)}\")\n",
    "#print(f\"среднее для 2-го облака точек: М(Х) = {round(cloud5[:,0].mean(), 2)}, М(Y) = {round(cloud5[:,1].mean(), 2)}, б(X) = {round(cloud5[:,0].std(), 2)}, б(Y) = {round(cloud5[:,1].std(), 2)}\")\n",
    "\n",
    "\n"
   ]
  },
  {
   "cell_type": "markdown",
   "metadata": {},
   "source": [
    "## 2. Графическое представление расположения набора данных"
   ]
  },
  {
   "cell_type": "code",
   "execution_count": 11,
   "metadata": {},
   "outputs": [
    {
     "data": {
      "text/plain": [
       "<matplotlib.collections.PathCollection at 0xc247b80>"
      ]
     },
     "execution_count": 11,
     "metadata": {},
     "output_type": "execute_result"
    },
    {
     "data": {
      "image/png": "[encoded data removed]",
      "text/plain": [
       "<Figure size 432x288 with 1 Axes>"
      ]
     },
     "metadata": {
      "needs_background": "light"
     },
     "output_type": "display_data"
    }
   ],
   "source": [
    "plt.scatter(cloud1[:,0], cloud1[:,1])\n",
    "plt.scatter(cloud2[:,0], cloud2[:,1])\n",
    "plt.scatter(cloud3[:,0], cloud3[:,1])\n",
    "plt.scatter(cloud4[:,0], cloud4[:,1])\n",
    "plt.scatter(cloud5[:,0], cloud5[:,1])\n"
   ]
  },
  {
   "cell_type": "markdown",
   "metadata": {},
   "source": [
    "## 3. Матрица ошибок"
   ]
  },
  {
   "cell_type": "code",
   "execution_count": 12,
   "metadata": {},
   "outputs": [
    {
     "data": {
      "text/plain": [
       "array([[281,  52,   3,   6,  45],\n",
       "       [ 55, 278,  51,   7,   5],\n",
       "       [  6,  66, 275,  56,   4],\n",
       "       [  7,   4,  58, 288,  61],\n",
       "       [ 67,   5,   5,  52, 288]], dtype=int64)"
      ]
     },
     "execution_count": 12,
     "metadata": {},
     "output_type": "execute_result"
    }
   ],
   "source": [
    "confusion_matrix(Ytest, predictions)"
   ]
  },
  {
   "cell_type": "markdown",
   "metadata": {
    "scrolled": true
   },
   "source": [
    "## 4. Точность классификации"
   ]
  },
  {
   "cell_type": "code",
   "execution_count": 13,
   "metadata": {},
   "outputs": [
    {
     "name": "stdout",
     "output_type": "stream",
     "text": [
      "0.6962962962962963\n"
     ]
    }
   ],
   "source": [
    "print(accur)"
   ]
  },
  {
   "cell_type": "code",
   "execution_count": null,
   "metadata": {},
   "outputs": [],
   "source": []
  }
 ],
 "metadata": {
  "kernelspec": {
   "display_name": "Python 3",
   "language": "python",
   "name": "python3"
  },
  "language_info": {
   "codemirror_mode": {
    "name": "ipython",
    "version": 3
   },
   "file_extension": ".py",
   "mimetype": "text/x-python",
   "name": "python",
   "nbconvert_exporter": "python",
   "pygments_lexer": "ipython3",
   "version": "3.8.8"
  }
 },
 "nbformat": 4,
 "nbformat_minor": 4
}
