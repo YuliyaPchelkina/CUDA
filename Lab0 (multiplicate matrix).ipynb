{
 "cells": [
  {
   "cell_type": "code",
   "execution_count": 101,
   "id": "68e878ce",
   "metadata": {},
   "outputs": [],
   "source": [
    "import sys\n",
    "import time\n",
    "import numpy as np\n",
    "import random\n",
    "import time\n",
    "import datetime\n",
    "\n",
    "from numba import cuda, float32\n",
    "from numba import jit\n",
    "from numba import vectorize\n",
    "\n",
    "from numpy import arange\n",
    "\n"
   ]
  },
  {
   "cell_type": "markdown",
   "id": "0922a0ad",
   "metadata": {},
   "source": [
    "#### создаем две матрицы одного размера"
   ]
  },
  {
   "cell_type": "code",
   "execution_count": 167,
   "id": "8c76d8d9",
   "metadata": {},
   "outputs": [
    {
     "name": "stdout",
     "output_type": "stream",
     "text": [
      "time:  0:00:00.006000\n"
     ]
    }
   ],
   "source": [
    "\n",
    "M = 10  # количество строк и столбцов в матрицах\n",
    "\n",
    "\n",
    "start_time = datetime.datetime.now() # отметили стартовое время\n",
    "\n",
    "z1 = []\n",
    "z2 = []\n",
    "\n",
    "for x in range (M):\n",
    "    for y in range (M):\n",
    "        z1.append(float(random.randint(0., 9.)))  # заполняем два массива размером М*М числами от 1 до 9\n",
    "        z2.append(float(random.randint(0., 9.)))\n",
    "        A = np.array(z1)\n",
    "        B = np.array(z2)\n",
    "\n",
    "A = A.reshape(M, M) #преобразем массивы в матрицы\n",
    "B = B.reshape(M, M)\n",
    "\n",
    "C = np.zeros((M, M))\n",
    "\n",
    "print ('time:  '+ str(datetime.datetime.now() - start_time)) # из стартового времени вычитаем текущее"
   ]
  },
  {
   "cell_type": "code",
   "execution_count": 159,
   "id": "4f9dced2",
   "metadata": {},
   "outputs": [],
   "source": [
    "#print(A)\n"
   ]
  },
  {
   "cell_type": "code",
   "execution_count": 160,
   "id": "69c70c06",
   "metadata": {},
   "outputs": [],
   "source": [
    "#print(B)"
   ]
  },
  {
   "cell_type": "code",
   "execution_count": 161,
   "id": "2c3d6977",
   "metadata": {},
   "outputs": [],
   "source": [
    "#print(C)"
   ]
  },
  {
   "cell_type": "code",
   "execution_count": 162,
   "id": "2ec37f0d",
   "metadata": {},
   "outputs": [],
   "source": [
    "#print(type(C[0][0]), type(A[0][0]))"
   ]
  },
  {
   "cell_type": "markdown",
   "id": "792e96f5",
   "metadata": {},
   "source": [
    "#### Умножение матриц с использованием служебной функции"
   ]
  },
  {
   "cell_type": "code",
   "execution_count": 163,
   "id": "605a2288",
   "metadata": {},
   "outputs": [
    {
     "name": "stdout",
     "output_type": "stream",
     "text": [
      "[[301. 210. 195. 274. 177. 262. 183. 232.  79. 159.]\n",
      " [118. 124.  65. 143.  67. 172.  96. 153.  80. 147.]\n",
      " [189. 177.  85. 201.  90. 173.  97. 193. 102. 151.]\n",
      " [241. 249. 157. 252. 120. 245. 132. 279. 143. 183.]\n",
      " [347. 281. 160. 344. 165. 348. 201. 325. 205. 259.]\n",
      " [309. 250. 189. 318. 169. 310. 195. 291. 146. 194.]\n",
      " [187. 195. 113. 176. 110. 193. 138. 178.  73. 155.]\n",
      " [420. 332. 239. 391. 233. 408. 273. 360. 173. 308.]\n",
      " [267. 193. 149. 268. 138. 249. 145. 237. 121. 156.]\n",
      " [373. 338. 238. 353. 195. 400. 269. 358. 211. 268.]]\n",
      "time:  0:00:00\n"
     ]
    }
   ],
   "source": [
    "start_time = datetime.datetime.now() # отметили стартовое время\n",
    "\n",
    "C1 = A.dot(B)\n",
    "\n",
    "\n",
    "print(C1)\n",
    "print ('time:  '+ str(datetime.datetime.now() - start_time)) # из стартового времени вычитаем текущее"
   ]
  },
  {
   "cell_type": "markdown",
   "id": "645dbc06",
   "metadata": {},
   "source": [
    "#### Функция для умножения матриц (на CPU)"
   ]
  },
  {
   "cell_type": "code",
   "execution_count": 164,
   "id": "4fe30eef",
   "metadata": {},
   "outputs": [
    {
     "name": "stdout",
     "output_type": "stream",
     "text": [
      "[[301. 210. 195. 274. 177. 262. 183. 232.  79. 159.]\n",
      " [118. 124.  65. 143.  67. 172.  96. 153.  80. 147.]\n",
      " [189. 177.  85. 201.  90. 173.  97. 193. 102. 151.]\n",
      " [241. 249. 157. 252. 120. 245. 132. 279. 143. 183.]\n",
      " [347. 281. 160. 344. 165. 348. 201. 325. 205. 259.]\n",
      " [309. 250. 189. 318. 169. 310. 195. 291. 146. 194.]\n",
      " [187. 195. 113. 176. 110. 193. 138. 178.  73. 155.]\n",
      " [420. 332. 239. 391. 233. 408. 273. 360. 173. 308.]\n",
      " [267. 193. 149. 268. 138. 249. 145. 237. 121. 156.]\n",
      " [373. 338. 238. 353. 195. 400. 269. 358. 211. 268.]]\n",
      "time:  0:00:00.018601\n"
     ]
    }
   ],
   "source": [
    "def mat_mul (matr1, matr2, matr3):\n",
    "    \n",
    "    matr3 = np.zeros((M, M)) # сознаем матрицу размером МхМ из нулей\n",
    "    for i in range(0, M):\n",
    "        for j in range(0, M):\n",
    "            for k in range(0, M):\n",
    "                matr3[i][j] += matr1[i][k] * matr2[k][j]  # по формуле умножения матриц\n",
    "    \n",
    "    print (matr3)\n",
    "    \n",
    "start_time = datetime.datetime.now() # отметили стартовое время   \n",
    "\n",
    "mat_mul(A, B, C)\n",
    "\n",
    "print ('time:  '+ str(datetime.datetime.now() - start_time)) # из стартового времени вычитаем текущее    \n"
   ]
  },
  {
   "cell_type": "markdown",
   "id": "07acaa04",
   "metadata": {},
   "source": [
    "#### Результат работы на GPU с применением CUDA"
   ]
  },
  {
   "cell_type": "code",
   "execution_count": 185,
   "id": "c214e878",
   "metadata": {},
   "outputs": [],
   "source": [
    "@cuda.jit\n",
    "def mat_mul_GPU(matr1, matr2, matr3):\n",
    "    \n",
    "    i, j = cuda.grid(2)\n",
    "    if i < matr3.shape[0] and j < matr3.shape[1]:\n",
    "        for k in range(matr1.shape[1]):\n",
    "            matr3[i][j] += matr1[i][k] * matr2[k][j]\n",
    "    return matr3\n",
    "        \n",
    "\n",
    "\n",
    "def hosts(matr1, matr2, matr3):   \n",
    "    \n",
    "    \n",
    "    d_matr1 = cuda.to_device(matr1) # выделили память\n",
    "    d_matr2 = cuda.to_device(matr2)\n",
    "    d_matr3 = cuda.device_array(d_matr3.shape, np.float32)\n",
    "    \n",
    "    block = (TPB, TPB) # размер блока\n",
    "    \n",
    "    blockgrid_x = math.ceil(matr1.shape[0]/ block[0]) # строки первой матрицы\n",
    "    blockgrid_y = math.ceil(matr1.shape[1]/ block[1]) # столбцы второй матрицы\n",
    "    blockgrid = (blockgrid_x, blockgrid_y)\n",
    "    \n",
    "    \n",
    "    mat_mul_GPU[blockgrid, block](d_matr1, d_matr2, d_matr3)\n",
    "    \n",
    "    return d_matr3.copy_to_host()"
   ]
  },
  {
   "cell_type": "code",
   "execution_count": 186,
   "id": "06fab3fe",
   "metadata": {},
   "outputs": [
    {
     "ename": "CudaSupportError",
     "evalue": "<CUDA device 0 'b'GeForce 9600 GSO 512''> has compute capability < (2, 0)",
     "output_type": "error",
     "traceback": [
      "\u001b[1;31m---------------------------------------------------------------------------\u001b[0m",
      "\u001b[1;31mCudaSupportError\u001b[0m                          Traceback (most recent call last)",
      "\u001b[1;32m<ipython-input-186-c8d04f7dc3e6>\u001b[0m in \u001b[0;36m<module>\u001b[1;34m\u001b[0m\n\u001b[0;32m      2\u001b[0m \u001b[0mstart_time\u001b[0m \u001b[1;33m=\u001b[0m \u001b[0mdatetime\u001b[0m\u001b[1;33m.\u001b[0m\u001b[0mdatetime\u001b[0m\u001b[1;33m.\u001b[0m\u001b[0mnow\u001b[0m\u001b[1;33m(\u001b[0m\u001b[1;33m)\u001b[0m \u001b[1;31m# отметили стартовое время\u001b[0m\u001b[1;33m\u001b[0m\u001b[1;33m\u001b[0m\u001b[0m\n\u001b[0;32m      3\u001b[0m \u001b[1;33m\u001b[0m\u001b[0m\n\u001b[1;32m----> 4\u001b[1;33m \u001b[0mhosts\u001b[0m\u001b[1;33m(\u001b[0m\u001b[0mA\u001b[0m\u001b[1;33m,\u001b[0m \u001b[0mB\u001b[0m\u001b[1;33m,\u001b[0m \u001b[0mC\u001b[0m\u001b[1;33m)\u001b[0m\u001b[1;33m\u001b[0m\u001b[1;33m\u001b[0m\u001b[0m\n\u001b[0m\u001b[0;32m      5\u001b[0m \u001b[1;33m\u001b[0m\u001b[0m\n\u001b[0;32m      6\u001b[0m \u001b[0mprint\u001b[0m \u001b[1;33m(\u001b[0m\u001b[1;34m'time:  '\u001b[0m\u001b[1;33m+\u001b[0m \u001b[0mstr\u001b[0m\u001b[1;33m(\u001b[0m\u001b[0mdatetime\u001b[0m\u001b[1;33m.\u001b[0m\u001b[0mdatetime\u001b[0m\u001b[1;33m.\u001b[0m\u001b[0mnow\u001b[0m\u001b[1;33m(\u001b[0m\u001b[1;33m)\u001b[0m \u001b[1;33m-\u001b[0m \u001b[0mstart_time\u001b[0m\u001b[1;33m)\u001b[0m\u001b[1;33m)\u001b[0m \u001b[1;31m# из стартового времени вычитаем текущее\u001b[0m\u001b[1;33m\u001b[0m\u001b[1;33m\u001b[0m\u001b[0m\n",
      "\u001b[1;32m<ipython-input-185-f9c2dbf762f9>\u001b[0m in \u001b[0;36mhosts\u001b[1;34m(matr1, matr2, matr3)\u001b[0m\n\u001b[0;32m     13\u001b[0m \u001b[1;33m\u001b[0m\u001b[0m\n\u001b[0;32m     14\u001b[0m \u001b[1;33m\u001b[0m\u001b[0m\n\u001b[1;32m---> 15\u001b[1;33m     \u001b[0md_matr1\u001b[0m \u001b[1;33m=\u001b[0m \u001b[0mcuda\u001b[0m\u001b[1;33m.\u001b[0m\u001b[0mto_device\u001b[0m\u001b[1;33m(\u001b[0m\u001b[0mmatr1\u001b[0m\u001b[1;33m)\u001b[0m \u001b[1;31m# выделили память\u001b[0m\u001b[1;33m\u001b[0m\u001b[1;33m\u001b[0m\u001b[0m\n\u001b[0m\u001b[0;32m     16\u001b[0m     \u001b[0md_matr2\u001b[0m \u001b[1;33m=\u001b[0m \u001b[0mcuda\u001b[0m\u001b[1;33m.\u001b[0m\u001b[0mto_device\u001b[0m\u001b[1;33m(\u001b[0m\u001b[0mmatr2\u001b[0m\u001b[1;33m)\u001b[0m\u001b[1;33m\u001b[0m\u001b[1;33m\u001b[0m\u001b[0m\n\u001b[0;32m     17\u001b[0m     \u001b[0md_matr3\u001b[0m \u001b[1;33m=\u001b[0m \u001b[0mcuda\u001b[0m\u001b[1;33m.\u001b[0m\u001b[0mdevice_array\u001b[0m\u001b[1;33m(\u001b[0m\u001b[0md_matr3\u001b[0m\u001b[1;33m.\u001b[0m\u001b[0mshape\u001b[0m\u001b[1;33m,\u001b[0m \u001b[0mnp\u001b[0m\u001b[1;33m.\u001b[0m\u001b[0mfloat32\u001b[0m\u001b[1;33m)\u001b[0m\u001b[1;33m\u001b[0m\u001b[1;33m\u001b[0m\u001b[0m\n",
      "\u001b[1;32m~\\anaconda3\\lib\\site-packages\\numba\\cuda\\cudadrv\\devices.py\u001b[0m in \u001b[0;36m_require_cuda_context\u001b[1;34m(*args, **kws)\u001b[0m\n\u001b[0;32m    221\u001b[0m     \u001b[1;33m@\u001b[0m\u001b[0mfunctools\u001b[0m\u001b[1;33m.\u001b[0m\u001b[0mwraps\u001b[0m\u001b[1;33m(\u001b[0m\u001b[0mfn\u001b[0m\u001b[1;33m)\u001b[0m\u001b[1;33m\u001b[0m\u001b[1;33m\u001b[0m\u001b[0m\n\u001b[0;32m    222\u001b[0m     \u001b[1;32mdef\u001b[0m \u001b[0m_require_cuda_context\u001b[0m\u001b[1;33m(\u001b[0m\u001b[1;33m*\u001b[0m\u001b[0margs\u001b[0m\u001b[1;33m,\u001b[0m \u001b[1;33m**\u001b[0m\u001b[0mkws\u001b[0m\u001b[1;33m)\u001b[0m\u001b[1;33m:\u001b[0m\u001b[1;33m\u001b[0m\u001b[1;33m\u001b[0m\u001b[0m\n\u001b[1;32m--> 223\u001b[1;33m         \u001b[1;32mwith\u001b[0m \u001b[0m_runtime\u001b[0m\u001b[1;33m.\u001b[0m\u001b[0mensure_context\u001b[0m\u001b[1;33m(\u001b[0m\u001b[1;33m)\u001b[0m\u001b[1;33m:\u001b[0m\u001b[1;33m\u001b[0m\u001b[1;33m\u001b[0m\u001b[0m\n\u001b[0m\u001b[0;32m    224\u001b[0m             \u001b[1;32mreturn\u001b[0m \u001b[0mfn\u001b[0m\u001b[1;33m(\u001b[0m\u001b[1;33m*\u001b[0m\u001b[0margs\u001b[0m\u001b[1;33m,\u001b[0m \u001b[1;33m**\u001b[0m\u001b[0mkws\u001b[0m\u001b[1;33m)\u001b[0m\u001b[1;33m\u001b[0m\u001b[1;33m\u001b[0m\u001b[0m\n\u001b[0;32m    225\u001b[0m \u001b[1;33m\u001b[0m\u001b[0m\n",
      "\u001b[1;32m~\\anaconda3\\lib\\contextlib.py\u001b[0m in \u001b[0;36m__enter__\u001b[1;34m(self)\u001b[0m\n\u001b[0;32m    111\u001b[0m         \u001b[1;32mdel\u001b[0m \u001b[0mself\u001b[0m\u001b[1;33m.\u001b[0m\u001b[0margs\u001b[0m\u001b[1;33m,\u001b[0m \u001b[0mself\u001b[0m\u001b[1;33m.\u001b[0m\u001b[0mkwds\u001b[0m\u001b[1;33m,\u001b[0m \u001b[0mself\u001b[0m\u001b[1;33m.\u001b[0m\u001b[0mfunc\u001b[0m\u001b[1;33m\u001b[0m\u001b[1;33m\u001b[0m\u001b[0m\n\u001b[0;32m    112\u001b[0m         \u001b[1;32mtry\u001b[0m\u001b[1;33m:\u001b[0m\u001b[1;33m\u001b[0m\u001b[1;33m\u001b[0m\u001b[0m\n\u001b[1;32m--> 113\u001b[1;33m             \u001b[1;32mreturn\u001b[0m \u001b[0mnext\u001b[0m\u001b[1;33m(\u001b[0m\u001b[0mself\u001b[0m\u001b[1;33m.\u001b[0m\u001b[0mgen\u001b[0m\u001b[1;33m)\u001b[0m\u001b[1;33m\u001b[0m\u001b[1;33m\u001b[0m\u001b[0m\n\u001b[0m\u001b[0;32m    114\u001b[0m         \u001b[1;32mexcept\u001b[0m \u001b[0mStopIteration\u001b[0m\u001b[1;33m:\u001b[0m\u001b[1;33m\u001b[0m\u001b[1;33m\u001b[0m\u001b[0m\n\u001b[0;32m    115\u001b[0m             \u001b[1;32mraise\u001b[0m \u001b[0mRuntimeError\u001b[0m\u001b[1;33m(\u001b[0m\u001b[1;34m\"generator didn't yield\"\u001b[0m\u001b[1;33m)\u001b[0m \u001b[1;32mfrom\u001b[0m \u001b[1;32mNone\u001b[0m\u001b[1;33m\u001b[0m\u001b[1;33m\u001b[0m\u001b[0m\n",
      "\u001b[1;32m~\\anaconda3\\lib\\site-packages\\numba\\cuda\\cudadrv\\devices.py\u001b[0m in \u001b[0;36mensure_context\u001b[1;34m(self)\u001b[0m\n\u001b[0;32m    121\u001b[0m         \u001b[1;32mwith\u001b[0m \u001b[0mdriver\u001b[0m\u001b[1;33m.\u001b[0m\u001b[0mget_active_context\u001b[0m\u001b[1;33m(\u001b[0m\u001b[1;33m)\u001b[0m\u001b[1;33m:\u001b[0m\u001b[1;33m\u001b[0m\u001b[1;33m\u001b[0m\u001b[0m\n\u001b[0;32m    122\u001b[0m             \u001b[0moldctx\u001b[0m \u001b[1;33m=\u001b[0m \u001b[0mself\u001b[0m\u001b[1;33m.\u001b[0m\u001b[0m_get_attached_context\u001b[0m\u001b[1;33m(\u001b[0m\u001b[1;33m)\u001b[0m\u001b[1;33m\u001b[0m\u001b[1;33m\u001b[0m\u001b[0m\n\u001b[1;32m--> 123\u001b[1;33m             \u001b[0mnewctx\u001b[0m \u001b[1;33m=\u001b[0m \u001b[0mself\u001b[0m\u001b[1;33m.\u001b[0m\u001b[0mget_or_create_context\u001b[0m\u001b[1;33m(\u001b[0m\u001b[1;32mNone\u001b[0m\u001b[1;33m)\u001b[0m\u001b[1;33m\u001b[0m\u001b[1;33m\u001b[0m\u001b[0m\n\u001b[0m\u001b[0;32m    124\u001b[0m             \u001b[0mself\u001b[0m\u001b[1;33m.\u001b[0m\u001b[0m_set_attached_context\u001b[0m\u001b[1;33m(\u001b[0m\u001b[0mnewctx\u001b[0m\u001b[1;33m)\u001b[0m\u001b[1;33m\u001b[0m\u001b[1;33m\u001b[0m\u001b[0m\n\u001b[0;32m    125\u001b[0m             \u001b[1;32mtry\u001b[0m\u001b[1;33m:\u001b[0m\u001b[1;33m\u001b[0m\u001b[1;33m\u001b[0m\u001b[0m\n",
      "\u001b[1;32m~\\anaconda3\\lib\\site-packages\\numba\\cuda\\cudadrv\\devices.py\u001b[0m in \u001b[0;36mget_or_create_context\u001b[1;34m(self, devnum)\u001b[0m\n\u001b[0;32m    136\u001b[0m             \u001b[0mattached_ctx\u001b[0m \u001b[1;33m=\u001b[0m \u001b[0mself\u001b[0m\u001b[1;33m.\u001b[0m\u001b[0m_get_attached_context\u001b[0m\u001b[1;33m(\u001b[0m\u001b[1;33m)\u001b[0m\u001b[1;33m\u001b[0m\u001b[1;33m\u001b[0m\u001b[0m\n\u001b[0;32m    137\u001b[0m             \u001b[1;32mif\u001b[0m \u001b[0mattached_ctx\u001b[0m \u001b[1;32mis\u001b[0m \u001b[1;32mNone\u001b[0m\u001b[1;33m:\u001b[0m\u001b[1;33m\u001b[0m\u001b[1;33m\u001b[0m\u001b[0m\n\u001b[1;32m--> 138\u001b[1;33m                 \u001b[1;32mreturn\u001b[0m \u001b[0mself\u001b[0m\u001b[1;33m.\u001b[0m\u001b[0m_get_or_create_context_uncached\u001b[0m\u001b[1;33m(\u001b[0m\u001b[0mdevnum\u001b[0m\u001b[1;33m)\u001b[0m\u001b[1;33m\u001b[0m\u001b[1;33m\u001b[0m\u001b[0m\n\u001b[0m\u001b[0;32m    139\u001b[0m             \u001b[1;32melse\u001b[0m\u001b[1;33m:\u001b[0m\u001b[1;33m\u001b[0m\u001b[1;33m\u001b[0m\u001b[0m\n\u001b[0;32m    140\u001b[0m                 \u001b[1;32mreturn\u001b[0m \u001b[0mattached_ctx\u001b[0m\u001b[1;33m\u001b[0m\u001b[1;33m\u001b[0m\u001b[0m\n",
      "\u001b[1;32m~\\anaconda3\\lib\\site-packages\\numba\\cuda\\cudadrv\\devices.py\u001b[0m in \u001b[0;36m_get_or_create_context_uncached\u001b[1;34m(self, devnum)\u001b[0m\n\u001b[0;32m    151\u001b[0m             \u001b[1;32mwith\u001b[0m \u001b[0mdriver\u001b[0m\u001b[1;33m.\u001b[0m\u001b[0mget_active_context\u001b[0m\u001b[1;33m(\u001b[0m\u001b[1;33m)\u001b[0m \u001b[1;32mas\u001b[0m \u001b[0mac\u001b[0m\u001b[1;33m:\u001b[0m\u001b[1;33m\u001b[0m\u001b[1;33m\u001b[0m\u001b[0m\n\u001b[0;32m    152\u001b[0m                 \u001b[1;32mif\u001b[0m \u001b[1;32mnot\u001b[0m \u001b[0mac\u001b[0m\u001b[1;33m:\u001b[0m\u001b[1;33m\u001b[0m\u001b[1;33m\u001b[0m\u001b[0m\n\u001b[1;32m--> 153\u001b[1;33m                     \u001b[1;32mreturn\u001b[0m \u001b[0mself\u001b[0m\u001b[1;33m.\u001b[0m\u001b[0m_activate_context_for\u001b[0m\u001b[1;33m(\u001b[0m\u001b[1;36m0\u001b[0m\u001b[1;33m)\u001b[0m\u001b[1;33m\u001b[0m\u001b[1;33m\u001b[0m\u001b[0m\n\u001b[0m\u001b[0;32m    154\u001b[0m                 \u001b[1;32melse\u001b[0m\u001b[1;33m:\u001b[0m\u001b[1;33m\u001b[0m\u001b[1;33m\u001b[0m\u001b[0m\n\u001b[0;32m    155\u001b[0m                     \u001b[1;31m# Get primary context for the active device\u001b[0m\u001b[1;33m\u001b[0m\u001b[1;33m\u001b[0m\u001b[1;33m\u001b[0m\u001b[0m\n",
      "\u001b[1;32m~\\anaconda3\\lib\\site-packages\\numba\\cuda\\cudadrv\\devices.py\u001b[0m in \u001b[0;36m_activate_context_for\u001b[1;34m(self, devnum)\u001b[0m\n\u001b[0;32m    167\u001b[0m         \u001b[1;32mwith\u001b[0m \u001b[0mself\u001b[0m\u001b[1;33m.\u001b[0m\u001b[0m_lock\u001b[0m\u001b[1;33m:\u001b[0m\u001b[1;33m\u001b[0m\u001b[1;33m\u001b[0m\u001b[0m\n\u001b[0;32m    168\u001b[0m             \u001b[0mgpu\u001b[0m \u001b[1;33m=\u001b[0m \u001b[0mself\u001b[0m\u001b[1;33m.\u001b[0m\u001b[0mgpus\u001b[0m\u001b[1;33m[\u001b[0m\u001b[0mdevnum\u001b[0m\u001b[1;33m]\u001b[0m\u001b[1;33m\u001b[0m\u001b[1;33m\u001b[0m\u001b[0m\n\u001b[1;32m--> 169\u001b[1;33m             \u001b[0mnewctx\u001b[0m \u001b[1;33m=\u001b[0m \u001b[0mgpu\u001b[0m\u001b[1;33m.\u001b[0m\u001b[0mget_primary_context\u001b[0m\u001b[1;33m(\u001b[0m\u001b[1;33m)\u001b[0m\u001b[1;33m\u001b[0m\u001b[1;33m\u001b[0m\u001b[0m\n\u001b[0m\u001b[0;32m    170\u001b[0m             \u001b[1;31m# Detect unexpected context switch\u001b[0m\u001b[1;33m\u001b[0m\u001b[1;33m\u001b[0m\u001b[1;33m\u001b[0m\u001b[0m\n\u001b[0;32m    171\u001b[0m             \u001b[0mcached_ctx\u001b[0m \u001b[1;33m=\u001b[0m \u001b[0mself\u001b[0m\u001b[1;33m.\u001b[0m\u001b[0m_get_attached_context\u001b[0m\u001b[1;33m(\u001b[0m\u001b[1;33m)\u001b[0m\u001b[1;33m\u001b[0m\u001b[1;33m\u001b[0m\u001b[0m\n",
      "\u001b[1;32m~\\anaconda3\\lib\\site-packages\\numba\\cuda\\cudadrv\\driver.py\u001b[0m in \u001b[0;36mget_primary_context\u001b[1;34m(self)\u001b[0m\n\u001b[0;32m    519\u001b[0m             \u001b[1;32mreturn\u001b[0m \u001b[0mself\u001b[0m\u001b[1;33m.\u001b[0m\u001b[0mprimary_context\u001b[0m\u001b[1;33m\u001b[0m\u001b[1;33m\u001b[0m\u001b[0m\n\u001b[0;32m    520\u001b[0m \u001b[1;33m\u001b[0m\u001b[0m\n\u001b[1;32m--> 521\u001b[1;33m         \u001b[0mmet_requirement_for_device\u001b[0m\u001b[1;33m(\u001b[0m\u001b[0mself\u001b[0m\u001b[1;33m)\u001b[0m\u001b[1;33m\u001b[0m\u001b[1;33m\u001b[0m\u001b[0m\n\u001b[0m\u001b[0;32m    522\u001b[0m \u001b[1;33m\u001b[0m\u001b[0m\n\u001b[0;32m    523\u001b[0m         \u001b[1;31m# create primary context\u001b[0m\u001b[1;33m\u001b[0m\u001b[1;33m\u001b[0m\u001b[1;33m\u001b[0m\u001b[0m\n",
      "\u001b[1;32m~\\anaconda3\\lib\\site-packages\\numba\\cuda\\cudadrv\\driver.py\u001b[0m in \u001b[0;36mmet_requirement_for_device\u001b[1;34m(device)\u001b[0m\n\u001b[0;32m    549\u001b[0m \u001b[1;32mdef\u001b[0m \u001b[0mmet_requirement_for_device\u001b[0m\u001b[1;33m(\u001b[0m\u001b[0mdevice\u001b[0m\u001b[1;33m)\u001b[0m\u001b[1;33m:\u001b[0m\u001b[1;33m\u001b[0m\u001b[1;33m\u001b[0m\u001b[0m\n\u001b[0;32m    550\u001b[0m     \u001b[1;32mif\u001b[0m \u001b[0mdevice\u001b[0m\u001b[1;33m.\u001b[0m\u001b[0mcompute_capability\u001b[0m \u001b[1;33m<\u001b[0m \u001b[0mMIN_REQUIRED_CC\u001b[0m\u001b[1;33m:\u001b[0m\u001b[1;33m\u001b[0m\u001b[1;33m\u001b[0m\u001b[0m\n\u001b[1;32m--> 551\u001b[1;33m         raise CudaSupportError(\"%s has compute capability < %s\" %\n\u001b[0m\u001b[0;32m    552\u001b[0m                                (device, MIN_REQUIRED_CC))\n\u001b[0;32m    553\u001b[0m \u001b[1;33m\u001b[0m\u001b[0m\n",
      "\u001b[1;31mCudaSupportError\u001b[0m: <CUDA device 0 'b'GeForce 9600 GSO 512''> has compute capability < (2, 0)"
     ]
    }
   ],
   "source": [
    "TPB = 2 # потоков\n",
    "start_time = datetime.datetime.now() # отметили стартовое время   \n",
    "\n",
    "hosts(A, B, C)\n",
    "\n",
    "print ('time:  '+ str(datetime.datetime.now() - start_time)) # из стартового времени вычитаем текущее    "
   ]
  },
  {
   "cell_type": "code",
   "execution_count": null,
   "id": "dcc90e29",
   "metadata": {},
   "outputs": [],
   "source": []
  },
  {
   "cell_type": "code",
   "execution_count": null,
   "id": "8d5c98aa",
   "metadata": {},
   "outputs": [],
   "source": []
  },
  {
   "cell_type": "code",
   "execution_count": null,
   "id": "f8e4a5d7",
   "metadata": {},
   "outputs": [],
   "source": []
  },
  {
   "cell_type": "code",
   "execution_count": null,
   "id": "61e8431f",
   "metadata": {},
   "outputs": [],
   "source": []
  },
  {
   "cell_type": "code",
   "execution_count": null,
   "id": "a5784c23",
   "metadata": {},
   "outputs": [],
   "source": []
  }
 ],
 "metadata": {
  "kernelspec": {
   "display_name": "Python 3",
   "language": "python",
   "name": "python3"
  },
  "language_info": {
   "codemirror_mode": {
    "name": "ipython",
    "version": 3
   },
   "file_extension": ".py",
   "mimetype": "text/x-python",
   "name": "python",
   "nbconvert_exporter": "python",
   "pygments_lexer": "ipython3",
   "version": "3.8.8"
  }
 },
 "nbformat": 4,
 "nbformat_minor": 5
}
