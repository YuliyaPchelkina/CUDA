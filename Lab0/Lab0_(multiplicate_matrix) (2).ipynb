{
  "nbformat": 4,
  "nbformat_minor": 5,
  "metadata": {
    "kernelspec": {
      "display_name": "Python 3 (ipykernel)",
      "language": "python",
      "name": "python3"
    },
    "language_info": {
      "codemirror_mode": {
        "name": "ipython",
        "version": 3
      },
      "file_extension": ".py",
      "mimetype": "text/x-python",
      "name": "python",
      "nbconvert_exporter": "python",
      "pygments_lexer": "ipython3",
      "version": "3.8.10"
    },
    "colab": {
      "name": "Lab0_(multiplicate_matrix).ipynb",
      "provenance": [],
      "collapsed_sections": []
    },
    "accelerator": "GPU"
  },
  "cells": [
    {
      "cell_type": "markdown",
      "metadata": {
        "id": "zNfCXqdaozJw"
      },
      "source": [
        "**Лабораторная № 0. Пчелкина Ю.Ж. Перемножение матриц**\n",
        "\n",
        "Задача\n",
        "\n",
        "Входные данные: 2 матрицы размером от 100х100 до 2000х2000 каждая.\n",
        "\n",
        "Выходные данные: проверка корректности перемножения + время вычисления\n",
        "\n",
        "Реализация должна содержать 2 функции перемножения матриц: на CPU и на GPU с\n",
        "применением CUDA.\n",
        "\n",
        "Отчет о проделанной лабораторной работе - это git-репозиторий с исходным кодом\n",
        "реализации + описание проделанной работы там же в readme.\n",
        "\n",
        "Необходимо описать реализацию, объяснив, что конкретно было распараллелено и\n",
        "почему.\n",
        "\n",
        "Провести эксперименты: перемножить матрицы разных размеров, посчитать\n",
        "ускорение. \n",
        "\n",
        "Результаты привести в виде таблицы/графика.\n"
      ],
      "id": "zNfCXqdaozJw"
    },
    {
      "cell_type": "code",
      "metadata": {
        "id": "IL8UY1MOqM6o"
      },
      "source": [
        "import math\n",
        "import random\n",
        "\n",
        "import numpy as np\n",
        "from numba import cuda, int32\n",
        "from tabulate import tabulate\n",
        "\n",
        "import time\n",
        "import datetime\n",
        "\n",
        "import matplotlib.pyplot as plt\n",
        "\n"
      ],
      "id": "IL8UY1MOqM6o",
      "execution_count": null,
      "outputs": []
    },
    {
      "cell_type": "code",
      "metadata": {
        "id": "h-z33EU0qox4"
      },
      "source": [
        "# Расчет будет производиться на блоках элементов TPBxTPB\n",
        "TPB = 16\n",
        "# Количество итераций для вычисления среднего затраченного времени\n",
        "ITER_COUNT = 10"
      ],
      "id": "h-z33EU0qox4",
      "execution_count": null,
      "outputs": []
    },
    {
      "cell_type": "markdown",
      "metadata": {
        "id": "0922a0ad"
      },
      "source": [
        "#### функция для создания матриц одного размера MxM"
      ],
      "id": "0922a0ad"
    },
    {
      "cell_type": "code",
      "metadata": {
        "id": "_wzOvW7n0EQY"
      },
      "source": [
        "def mat_create1 (M):\n",
        "  z1 = []\n",
        "  z2 = []\n",
        "  for x in range (M):\n",
        "    for y in range (M):\n",
        "      # заполняем два массива размером М*М числами от 1 до 9\n",
        "      z1.append(int32(random.randint(0., 9.)))  \n",
        "      z2.append(int32(random.randint(0., 9.)))\n",
        "      A = np.array(z1)\n",
        "      B = np.array(z2)\n",
        "  #преобразем массивы в матрицы\n",
        "  A = A.reshape(M, M) \n",
        "  B = B.reshape(M, M)\n",
        "  # матрица из нулей (для результатов)\n",
        "  C = np.zeros((M, M), dtype=np.int32)\n",
        "  return (A, B, C)\n",
        "\n"
      ],
      "id": "_wzOvW7n0EQY",
      "execution_count": null,
      "outputs": []
    },
    {
      "cell_type": "code",
      "metadata": {
        "id": "S3CKqz1ZNJnu"
      },
      "source": [
        "def mat_create (M):\n",
        "  A = np.random.randint(1000, size=(M,M))\n",
        "  B = np.random.randint(1000, size=(M,M))\n",
        "  C = np.zeros((M, M), dtype=np.int32)\n",
        "  return (A, B, C)\n",
        "\n"
      ],
      "id": "S3CKqz1ZNJnu",
      "execution_count": null,
      "outputs": []
    },
    {
      "cell_type": "code",
      "metadata": {
        "id": "sMj31IuvQ4gH"
      },
      "source": [
        "M = 100\n",
        "A, B, C = mat_create (M)"
      ],
      "id": "sMj31IuvQ4gH",
      "execution_count": null,
      "outputs": []
    },
    {
      "cell_type": "markdown",
      "metadata": {
        "id": "792e96f5"
      },
      "source": [
        "#### Умножение матриц с использованием служебной функции (на CPU)"
      ],
      "id": "792e96f5"
    },
    {
      "cell_type": "code",
      "metadata": {
        "colab": {
          "base_uri": "https://localhost:8080/"
        },
        "id": "605a2288",
        "outputId": "942124d0-06a3-4b29-aed9-d1f54a3926b7"
      },
      "source": [
        "# отметили стартовое время\n",
        "start_time = datetime.datetime.now() \n",
        "C1 = A.dot(B)\n",
        "# посчитали затраченное время\n",
        "t1 = datetime.datetime.now() - start_time\n",
        "print(C1)\n",
        "print ('time:  '+ str(t1)) "
      ],
      "id": "605a2288",
      "execution_count": null,
      "outputs": [
        {
          "output_type": "stream",
          "name": "stdout",
          "text": [
            "[[19528574 18843103 17967016 ... 19553708 20827827 20881123]\n",
            " [24124412 24688987 23692978 ... 24956381 25707937 25866331]\n",
            " [24723328 24789117 24592620 ... 26336016 25802056 27860384]\n",
            " ...\n",
            " [21597252 23126633 20883585 ... 23397029 22991319 25878520]\n",
            " [22920864 23066480 21227686 ... 25531096 23697302 24606699]\n",
            " [23675668 26334828 24896930 ... 27622698 27584911 28848563]]\n",
            "time:  0:00:00.002392\n"
          ]
        }
      ]
    },
    {
      "cell_type": "markdown",
      "metadata": {
        "id": "645dbc06"
      },
      "source": [
        "#### Собственная реализация функции для умножения матриц  (на CPU)"
      ],
      "id": "645dbc06"
    },
    {
      "cell_type": "code",
      "metadata": {
        "id": "4fe30eef"
      },
      "source": [
        "def mat_mul_CPU (matr1, matr2, matr3, M):\n",
        "    \n",
        "    for i in range(0, M):\n",
        "        for j in range(0, M):\n",
        "            for k in range(0, M):\n",
        "                matr3[i][j] += int(matr1[i][k] * matr2[k][j])  \n",
        "    \n",
        "    return (matr3)"
      ],
      "id": "4fe30eef",
      "execution_count": null,
      "outputs": []
    },
    {
      "cell_type": "markdown",
      "metadata": {
        "id": "KZwomaSE_uq7"
      },
      "source": [
        "проверка"
      ],
      "id": "KZwomaSE_uq7"
    },
    {
      "cell_type": "code",
      "metadata": {
        "colab": {
          "base_uri": "https://localhost:8080/"
        },
        "id": "wBtGi5sM2snI",
        "outputId": "7fdc85c4-0d4a-4ac8-dec2-feaa9ce41ba5"
      },
      "source": [
        "# отметили стартовое время    \n",
        "start_time = datetime.datetime.now()    \n",
        "C2 = mat_mul_CPU(A, B, C, M)\n",
        "# посчитали затраченное время\n",
        "t2 = datetime.datetime.now() - start_time\n",
        "\n",
        "print(C2)\n",
        "print ('time:  '+ str(t2))     \n"
      ],
      "id": "wBtGi5sM2snI",
      "execution_count": null,
      "outputs": [
        {
          "output_type": "stream",
          "name": "stdout",
          "text": [
            "[[19528574 18843103 17967016 ... 19553708 20827827 20881123]\n",
            " [24124412 24688987 23692978 ... 24956381 25707937 25866331]\n",
            " [24723328 24789117 24592620 ... 26336016 25802056 27860384]\n",
            " ...\n",
            " [21597252 23126633 20883585 ... 23397029 22991319 25878520]\n",
            " [22920864 23066480 21227686 ... 25531096 23697302 24606699]\n",
            " [23675668 26334828 24896930 ... 27622698 27584911 28848563]]\n",
            "time:  0:00:04.057755\n"
          ]
        }
      ]
    },
    {
      "cell_type": "markdown",
      "metadata": {
        "id": "07acaa04"
      },
      "source": [
        "#### Функция для для умножения матриц (на GPU с применением CUDA)"
      ],
      "id": "07acaa04"
    },
    {
      "cell_type": "markdown",
      "metadata": {
        "id": "G5K0Fjxx9ElB"
      },
      "source": [
        "\n",
        "Данная функция выполняет умножение квадратных матриц на GPU.\n",
        "\n",
        "Результирующая матрица состоит из квадрадных \"подмариц\", вычисление каждой такой \"подматрицы\" отведено отдельному блоку потоков.\n",
        "\n",
        "Используется преимущество быстрой общей памяти и сохраняется большая пропускная способность глобальной памяти. "
      ],
      "id": "G5K0Fjxx9ElB"
    },
    {
      "cell_type": "code",
      "metadata": {
        "id": "ll4g_gou6afK"
      },
      "source": [
        "#Динамический компилятор Cuda\n",
        "@cuda.jit\n",
        "def mat_mul_GPU(d_a, d_b, d_c):\n",
        "  # определяем массив в общей памяти\n",
        "  shared_a = cuda.shared.array(shape=(TPB, TPB), dtype=int32)\n",
        "  shared_b = cuda.shared.array(shape=(TPB, TPB), dtype=int32)\n",
        "\n",
        "  x, y = cuda.grid(2)\n",
        "  \n",
        "  # Набор встроенных функций CUDA используется для идентификации текущего потока выполнения, имеют смысл только внутри ядра CUDA или функции устройства\n",
        "  tx = cuda.threadIdx.x\n",
        "  ty = cuda.threadIdx.y\n",
        "  # количество блоков на сетку\n",
        "  bpg = cuda.gridDim.x  \n",
        "\n",
        "  # проверяем, что не вышли за границы\n",
        "  if x >= d_c.shape[0] and y >= d_c.shape[1]:\n",
        "    return\n",
        "\n",
        "  # каждый поток вычисляет один элемент в итоговой матрице, произведение разбивается на произведения векторов длиной TPB\n",
        "  tmp = 0.\n",
        "  for i in range(bpg):\n",
        "    # загружаем данные в общую память\n",
        "    shared_a[tx, ty] = d_a[x, ty + i * TPB]\n",
        "    shared_b[tx, ty] = d_b[tx + i * TPB, y]\n",
        "\n",
        "    # ожидание окончания предварительной загрузки\n",
        "    cuda.syncthreads() \n",
        "    \n",
        "    # вычисление в общей памяти\n",
        "    for j in range(TPB):\n",
        "      tmp += shared_a[tx, j] * shared_b[j, ty]\n",
        "\n",
        "    # Ожидание окончания вычисления на всех потоках\n",
        "    cuda.syncthreads()   \n",
        "  d_c[x, y] = tmp\n"
      ],
      "id": "ll4g_gou6afK",
      "execution_count": null,
      "outputs": []
    },
    {
      "cell_type": "markdown",
      "metadata": {
        "id": "QI6yy9su_2ZU"
      },
      "source": [
        "проверка"
      ],
      "id": "QI6yy9su_2ZU"
    },
    {
      "cell_type": "code",
      "metadata": {
        "colab": {
          "base_uri": "https://localhost:8080/"
        },
        "id": "7HwWbjXjra_z",
        "outputId": "cbb2b21c-781b-45ab-d551-051cb68432c2"
      },
      "source": [
        "    \n",
        "grid_size = (10, 10)\n",
        "block_size = (16, 16)\n",
        "# отметили стартовое время\n",
        "start_time = datetime.datetime.now()    \n",
        "\n",
        "# Перенос данных в глобальную память GPU\n",
        "d_a = cuda.to_device(A)\n",
        "d_b = cuda.to_device(B)\n",
        "d_c = cuda.to_device(C)\n",
        "\n",
        "# вызов ядра\n",
        "mat_mul_GPU[grid_size, block_size](d_a, d_b, d_c)\n",
        "# Перенос вывода с устройства на хост\n",
        "C3 = d_c.copy_to_host()\n",
        "\n",
        "# посчитали затраченное время\n",
        "t3 = datetime.datetime.now() - start_time\n",
        "\n",
        "print(C3)\n",
        "print ('time:  '+ str(t3))"
      ],
      "id": "7HwWbjXjra_z",
      "execution_count": null,
      "outputs": [
        {
          "output_type": "stream",
          "name": "stdout",
          "text": [
            "[[19528574 18843103 17967016 ... 19553708 20827827 20881123]\n",
            " [24124412 24688987 23692978 ... 24956381 25707937 25866331]\n",
            " [24723328 24789117 24592620 ... 26336016 25802056 27860384]\n",
            " ...\n",
            " [21597252 23126633 20883585 ... 23397029 22991319 25878520]\n",
            " [22920864 23066480 21227686 ... 25531096 23697302 24606699]\n",
            " [23675668 26334828 24896930 ... 27622698 27584911 28848563]]\n",
            "time:  0:00:00.007048\n"
          ]
        }
      ]
    },
    {
      "cell_type": "markdown",
      "metadata": {
        "id": "Fzg3Iyvp3tes"
      },
      "source": [
        "#### Сравниваем два метода : встроенную функцию dot (на CPU) и функцию mat_mul_GPU (для расчетов на GPU). \n",
        "\n",
        "Функция mat_mul_CPU реализует умножение матриц за значительно большее время, поэтому при сравнении не учитывалась.\n",
        "\n",
        "Для разных размеров матриц (от 112х112 до 2000х2000) проверяем среднее время выполнения для 10 итераций\n"
      ],
      "id": "Fzg3Iyvp3tes"
    },
    {
      "cell_type": "code",
      "metadata": {
        "id": "AED8QgQOEld9"
      },
      "source": [
        "\n",
        "result_list = []\n",
        "# размер матриц по условию от 100x100 до 2000х2000, \n",
        "# расчет производится на блоках элементов TPBxTPB (т.е. 16x16)\n",
        "# Количество итераций для вычисления среднего затраченного времени ITER_COUNT = 10\n",
        "\n",
        "for bpg in range(6, 125, 10):\n",
        "  grid_size = (bpg, bpg)\n",
        "  block_size = (TPB, TPB)\n",
        "  \n",
        "  # размер матрицы\n",
        "  M = bpg * TPB\n",
        "  #mat_size = (bpg * TPB, bpg * TPB)\n",
        "\n",
        "  correct_result = True\n",
        "  \n",
        "  dot_time_sum = 0\n",
        "  cpu_time_sum = 0\n",
        "  gpu_time_sum = 0\n",
        "\n",
        "  for _ in range(ITER_COUNT):\n",
        "    # создаем матрицы размера М\n",
        "    A, B, C = mat_create (M)\n",
        "   \n",
        "    # отметили стартовое время\n",
        "    start = time.time()\n",
        "    C1 = A.dot(B)\n",
        "    # считаем затраченное время\n",
        "    dot_time = time.time() - start\n",
        "    dot_time_sum += dot_time\n",
        "\n",
        "    # отметили стартовое время\n",
        "    #start = time.time()\n",
        "    #C2 = mat_mul_CPU(A, B, C, M)\n",
        "    # считаем затраченное время\n",
        "    #cpu_time = time.time() - start\n",
        "    #cpu_time_sum += cpu_time\n",
        "\n",
        "\n",
        "    # отметили стартовое время\n",
        "    start = time.time()\n",
        "    # Перенос данных в глобальную память GPU\n",
        "    d_a = cuda.to_device(A)\n",
        "    d_b = cuda.to_device(B)\n",
        "    d_c = cuda.to_device(C)\n",
        "    # вызов ядра\n",
        "    mat_mul_GPU[grid_size, block_size](d_a, d_b, d_c)\n",
        "    # Перенос вывода с устройства на хост\n",
        "    C3 = d_c.copy_to_host()\n",
        "    # считаем затраченное время\n",
        "    gpu_time = time.time() - start\n",
        "    gpu_time_sum += gpu_time\n",
        "\n",
        "    # для проверки правильности вычислений на GPU\n",
        "    correct_result = np.array_equal(C3, C1)\n",
        "\n",
        "  res = [M, correct_result, dot_time_sum / ITER_COUNT, gpu_time_sum / ITER_COUNT]\n",
        "  #print(res)\n",
        "  result_list.append(res)\n"
      ],
      "id": "AED8QgQOEld9",
      "execution_count": null,
      "outputs": []
    },
    {
      "cell_type": "code",
      "metadata": {
        "colab": {
          "base_uri": "https://localhost:8080/"
        },
        "id": "zeoqFZYvTZgx",
        "outputId": "689c01f1-94ad-4292-fad9-cb6b05f9b4cc"
      },
      "source": [
        "print(tabulate(result_list, headers=['matrix size', 'correct', 'cpu time', 'gpu time']))"
      ],
      "id": "zeoqFZYvTZgx",
      "execution_count": null,
      "outputs": [
        {
          "output_type": "stream",
          "name": "stdout",
          "text": [
            "  matrix size  correct      cpu time    gpu time\n",
            "-------------  ---------  ----------  ----------\n",
            "           96  True       0.00012002  0.00465629\n",
            "          256  True       0.00554235  0.00416636\n",
            "          416  True       0.0118726   0.00716889\n",
            "          576  True       0.0521146   0.0129493\n",
            "          736  True       0.118225    0.023291\n",
            "          896  True       0.203405    0.039026\n",
            "         1056  True       0.430188    0.0612729\n",
            "         1216  True       0.572019    0.0912374\n",
            "         1376  True       0.687808    0.120546\n",
            "         1536  True       0.998136    0.158086\n",
            "         1696  True       1.36846     0.213716\n",
            "         1856  True       1.89626     0.274552\n"
          ]
        }
      ]
    },
    {
      "cell_type": "markdown",
      "metadata": {
        "id": "G4bWQn74Iw8C"
      },
      "source": [
        "### Выводы.\n",
        "1. Вычисления на GPU верны\n",
        "2. Вычисления на GPU в основном затрачивают меньше времени (особенно при работе с матрицами больших размерностей)"
      ],
      "id": "G4bWQn74Iw8C"
    },
    {
      "cell_type": "code",
      "metadata": {
        "id": "f8e4a5d7",
        "colab": {
          "base_uri": "https://localhost:8080/",
          "height": 350
        },
        "outputId": "51d3f4e7-d035-4f45-cb6c-dcbb6be18093"
      },
      "source": [
        "result_matr = np.array(result_list)\n",
        "plt.figure(figsize=(25, 5))\n",
        "\n",
        "plt.subplot(1, 3, 1)\n",
        "plt.title('Среднее время работы на CPU')\n",
        "plt.plot(result_matr[:, 0], result_matr[:, 2])\n",
        "plt.xlabel('размер матрицы')\n",
        "plt.ylabel('время (мс)')\n",
        "plt.grid()\n",
        "\n",
        "plt.subplot(1, 3, 2)\n",
        "plt.title('Среднее время работы на GPU')\n",
        "plt.plot(result_matr[:, 0], result_matr[:, 3])\n",
        "plt.xlabel('размер матрицы')\n",
        "plt.ylabel('время (мс)')\n",
        "plt.grid()\n",
        "\n",
        "plt.subplot(1, 3, 3)\n",
        "plt.title('Ускорение')\n",
        "plt.plot(result_matr[:, 0], (result_matr[:, 2]/result_matr[:, 3]))\n",
        "plt.xlabel('размер матрицы')\n",
        "plt.ylabel('соотношение CPU к GPU')\n",
        "plt.grid()\n",
        "\n"
      ],
      "id": "f8e4a5d7",
      "execution_count": null,
      "outputs": [
        {
          "output_type": "display_data",
          "data": {
            "image/png": "[encoded data removed]",
            "text/plain": [
              "<Figure size 1800x360 with 3 Axes>"
            ]
          },
          "metadata": {
            "needs_background": "light"
          }
        }
      ]
    },
    {
      "cell_type": "code",
      "metadata": {
        "id": "a5784c23"
      },
      "source": [
        ""
      ],
      "id": "a5784c23",
      "execution_count": null,
      "outputs": []
    }
  ]
}